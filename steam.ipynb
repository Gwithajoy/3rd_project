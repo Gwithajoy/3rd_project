{
 "cells": [
  {
   "cell_type": "code",
   "execution_count": 870,
   "metadata": {},
   "outputs": [],
   "source": [
    "# 기본 설정\n",
    "import selenium\n",
    "from selenium import webdriver\n",
    "from selenium.webdriver import ActionChains\n",
    "from selenium.webdriver.common.keys import Keys\n",
    "from selenium.webdriver.common.by import By\n",
    "from selenium.webdriver.support import expected_conditions as EC\n",
    "from selenium.webdriver.support.ui import Select\n",
    "from selenium.webdriver.support.ui import WebDriverWait\n",
    "from bs4 import BeautifulSoup\n",
    "from selenium import webdriver\n",
    "from selenium.webdriver.chrome.options import Options\n",
    "from selenium.webdriver.chrome.service import Service\n",
    "from webdriver_manager.chrome import ChromeDriverManager\n",
    "from selenium.webdriver.common.by import By\n",
    "import time\n",
    "import re\n",
    "import os\n",
    "import pandas as pd\n",
    "from selenium import webdriver\n",
    "from selenium.webdriver.common.action_chains import ActionChains\n",
    "import requests\n",
    "from bs4 import BeautifulSoup"
   ]
  },
  {
   "cell_type": "code",
   "execution_count": 871,
   "metadata": {},
   "outputs": [
    {
     "name": "stderr",
     "output_type": "stream",
     "text": [
      "\n",
      "\n",
      "====== WebDriver manager ======\n",
      "Current google-chrome version is 103.0.5060\n",
      "Get LATEST chromedriver version for 103.0.5060 google-chrome\n",
      "Driver [/Users/glebang/.wdm/drivers/chromedriver/mac64/103.0.5060.53/chromedriver] found in cache\n",
      "/var/folders/r7/0wvk4f1d4lzd5x80v7qx3gg80000gn/T/ipykernel_1292/3764378121.py:1: DeprecationWarning: executable_path has been deprecated, please pass in a Service object\n",
      "  driver = webdriver.Chrome(ChromeDriverManager().install())\n"
     ]
    }
   ],
   "source": [
    "driver = webdriver.Chrome(ChromeDriverManager().install())\n",
    "driver.get(\"https://store.steampowered.com/search?sort_by=_ASC\")"
   ]
  },
  {
   "cell_type": "code",
   "execution_count": 872,
   "metadata": {},
   "outputs": [],
   "source": [
    "# for i in range(5):\n",
    "#         body = driver.find_element_by_css_selector('body')\n",
    "#         body.send_keys(Keys.PAGE_DOWN)\n",
    "#         time.sleep(1)"
   ]
  },
  {
   "cell_type": "code",
   "execution_count": 873,
   "metadata": {},
   "outputs": [],
   "source": [
    "# while True:\n",
    "#     # 끝까지 스크롤 다운\n",
    "#     driver.execute_script(\"window.scrollTo(0, document.body.scrollHeight);\")"
   ]
  },
  {
   "cell_type": "markdown",
   "metadata": {},
   "source": []
  },
  {
   "cell_type": "code",
   "execution_count": 874,
   "metadata": {},
   "outputs": [],
   "source": [
    "# find = driver.find_element_by_css_selector('#search_resultsRows')"
   ]
  },
  {
   "cell_type": "code",
   "execution_count": 875,
   "metadata": {},
   "outputs": [],
   "source": [
    "# find2 = find.get_attribute('innerHTML')"
   ]
  },
  {
   "cell_type": "code",
   "execution_count": 876,
   "metadata": {},
   "outputs": [],
   "source": [
    "# soup = BeautifulSoup(find2, 'html.parser')\n",
    "# soup"
   ]
  },
  {
   "cell_type": "code",
   "execution_count": 877,
   "metadata": {},
   "outputs": [],
   "source": [
    "# lst = soup.find_all(\"a\")\n",
    "# lst\n"
   ]
  },
  {
   "cell_type": "code",
   "execution_count": 878,
   "metadata": {},
   "outputs": [],
   "source": [
    "\n",
    "# for i in lst:\n",
    "#     print(i[\"href\"])\n",
    "    "
   ]
  },
  {
   "cell_type": "code",
   "execution_count": null,
   "metadata": {},
   "outputs": [],
   "source": []
  },
  {
   "cell_type": "code",
   "execution_count": 879,
   "metadata": {},
   "outputs": [
    {
     "name": "stderr",
     "output_type": "stream",
     "text": [
      "\n",
      "\n",
      "====== WebDriver manager ======\n",
      "Current google-chrome version is 103.0.5060\n",
      "Get LATEST chromedriver version for 103.0.5060 google-chrome\n",
      "Driver [/Users/glebang/.wdm/drivers/chromedriver/mac64/103.0.5060.53/chromedriver] found in cache\n",
      "/var/folders/r7/0wvk4f1d4lzd5x80v7qx3gg80000gn/T/ipykernel_1292/3050356808.py:2: DeprecationWarning: executable_path has been deprecated, please pass in a Service object\n",
      "  driver = webdriver.Chrome(ChromeDriverManager().install())\n"
     ]
    }
   ],
   "source": [
    "#20개 리뷰 가져오기\n",
    "driver = webdriver.Chrome(ChromeDriverManager().install())\n",
    "driver.get(\"https://store.steampowered.com/search?sort_by=_ASC\")"
   ]
  },
  {
   "cell_type": "code",
   "execution_count": 880,
   "metadata": {},
   "outputs": [],
   "source": [
    "#검색창 클릭\n",
    "driver.find_element(by = By.XPATH, value= '//*[@id=\"term\"]').click()"
   ]
  },
  {
   "cell_type": "code",
   "execution_count": 881,
   "metadata": {},
   "outputs": [],
   "source": [
    "# 검색 키워드\n",
    "game_lst = [\"DON'T STARVE TOGETHER\", \"Rust\",\"THE SIMS4\",\n",
    "\"CUPHEAD\",\"MUSEDASH\",\"GEOMETRY DASH\",\"THE ROOM\",\n",
    "\"DNF DUEL\",\"Rusty Lake: Roots\",\n",
    "\"Cyberpunk 2077\",\"FarCry 6\",\"RIMWORLD\",\n",
    "\"OXYGEN NOT INCLUDED\",\n",
    "\"DOKI DOKI LITERATURE CLUB!\",\n",
    "\"PERSONA 4 GOLDEN\",\n",
    "\"DEAD BY DAYLIGHT\",\n",
    "\"STARDEW VALLEY\",\n",
    "\"THE FOREST\",\n",
    "\"CRUSADER KINGS III\",\n",
    "\"GRAND THEFT AUTO V\"]\n",
    "\n",
    "  "
   ]
  },
  {
   "cell_type": "code",
   "execution_count": 882,
   "metadata": {},
   "outputs": [],
   "source": [
    "# 검색창에 키워드 입력\n",
    "search = driver.find_element(by=By.XPATH, value='//*[@id=\"term\"]').send_keys(\"DON'T STARVE TOGETHER\")\n",
    "click_button = driver.find_element(by=By.XPATH, value='//*[@id=\"advsearchform\"]/div[1]/div/div[1]/div[1]/div[2]/button/span').click()\n"
   ]
  },
  {
   "cell_type": "code",
   "execution_count": 883,
   "metadata": {},
   "outputs": [],
   "source": [
    "# 최상위에 있는 게임 클릭 \n",
    "click = driver.find_element(by= By.XPATH, value = '//*[@id=\"search_resultsRows\"]/a[1]/div[2]/div[1]/span').click()"
   ]
  },
  {
   "cell_type": "code",
   "execution_count": 884,
   "metadata": {},
   "outputs": [],
   "source": [
    "# 번들이 있다면, see all을 찾아서 눌러라\n",
    "try:  \n",
    "    driver.find_element(by=By.XPATH, value = '//*[@id=\"dlc_show_all_link\"]').click()\n",
    "except:\n",
    "    pass\n"
   ]
  },
  {
   "cell_type": "code",
   "execution_count": 885,
   "metadata": {},
   "outputs": [],
   "source": [
    "# # 큰 이미지, 작은 이미지 번들내용 가져오기 \n",
    "# bundles_p = []\n",
    "# bundles_t = []\n",
    "# title1 = driver.find_elements(By.CSS_SELECTOR, \"div.game_area_purchase_game_wrapper\")\n",
    "# title2 = driver.find_elements(By.CSS_SELECTOR, \"div.game_area_dlc_name\")\n",
    "# price1 = driver.find_elements(By.CSS_SELECTOR, \"div.discount_final_price\" )\n",
    "# price2 = driver.find_elements(By.CSS_SELECTOR, \"#dlc_row_1167330 > div.game_area_dlc_price > div > div.discount_prices > div.discount_final_price\" )\n",
    "\n",
    "\n",
    "# # for t1, p1 in zip(title1, price1):\n",
    "# #     t1 = \" \".join(t1.text.split('\\n')[0].split(\" \")[1:5])\n",
    "# #     p1 = int(\"\".join(p1.text.split('₩ ')[-1].split(',')))\n",
    "# #     bundles_t.append(t1)\n",
    "# #     bundles_p.append(p1)\n",
    "# # bundles_t\n",
    "\n",
    "\n",
    "# for t2, p2 in zip(title2,price2):\n",
    "#     t2 = t2.text\n",
    "# print(t2)\n",
    "#     # bundles_t.append(t2)\n",
    "\n",
    "\n",
    "\n"
   ]
  },
  {
   "cell_type": "code",
   "execution_count": 886,
   "metadata": {},
   "outputs": [],
   "source": [
    "# bundle_prices = [] \n",
    "# price = driver.find_elements(By.CSS_SELECTOR, \"div.discount_final_price\")\n",
    "# for p in price:\n",
    "#     p = p.text.split(\" \")[1]\n",
    "#     bundle_prices.append(p)\n",
    "# print(bundle_prices)\n"
   ]
  },
  {
   "cell_type": "code",
   "execution_count": 887,
   "metadata": {},
   "outputs": [],
   "source": [
    "# 게임정보 클릭전, 번들이름과 가격정보 크롤링\n",
    "bundle_names =driver.find_elements(By.CSS_SELECTOR, \"div.responsive_search_name_combined > div > span\")\n",
    "bundle_prices = driver.find_elements(By.CSS_SELECTOR, \"div.col.search_price.discounted.responsive_secondrow\")\n",
    "bname_lst = [] \n",
    "bprice_lst= []\n",
    "for t,p in zip(bundle_names, bundle_prices):\n",
    "    if t.text != \"\" and \"Don't Starve Together\" in t.text:\n",
    "        bname_lst.append(t.text)\n",
    "        price = int(\"\".join(p.text.split('₩ ')[-1].split(',')))\n",
    "        bprice_lst.append(price)\n",
    "        \n",
    "\n",
    "\n",
    "\n",
    "\n",
    "\n"
   ]
  },
  {
   "cell_type": "code",
   "execution_count": 888,
   "metadata": {},
   "outputs": [],
   "source": [
    "# # 리뷰 수집 (english only)\n",
    "# # [게임이름,아이디, 리뷰내용, helpful 수, funny 수, 플레이타임, recommended]\n",
    "\n",
    "# # browse all review 클릭\n",
    "# try:\n",
    "#     click_more = driver.find_element(By.CSS_SELECTOR, '#ViewAllReviewssummary').click()\n",
    "\n",
    "# except:\n",
    "#     pass\n",
    "\n",
    "# time.sleep(2)"
   ]
  },
  {
   "cell_type": "code",
   "execution_count": 890,
   "metadata": {},
   "outputs": [],
   "source": [
    "# 리뷰 수집 (english only)\n",
    "# [게임이름,아이디, 리뷰내용, helpful 수, funny 수, 플레이타임, recommended]\n",
    "\n",
    "# browse all review 클릭\n",
    "try:\n",
    "    click_more = driver.find_element(By.CSS_SELECTOR, '#ViewAllReviewssummary').click()\n",
    "\n",
    "except:\n",
    "    driver.find_element(By.XPATH,'//*[@id=\"LoadMoreReviewsrecent\"]/a/span').click()\n",
    "\n",
    "time.sleep(2)"
   ]
  },
  {
   "cell_type": "code",
   "execution_count": 891,
   "metadata": {},
   "outputs": [],
   "source": [
    "#most recent로 정렬\n",
    "driver.find_element(By.XPATH, '//*[@id=\"filterselect_activeday\"]').click()\n",
    "driver.find_element(By.XPATH,'//*[@id=\"filterselect_option_5\"]').click()"
   ]
  },
  {
   "cell_type": "code",
   "execution_count": 892,
   "metadata": {},
   "outputs": [],
   "source": [
    "# # 스크롤다운\n",
    "\n",
    "# while True:\n",
    "#     driver.execute_script(\"window.scrollTo(0, document.body.scrollHeight);\")\n",
    "#     time.sleep(1)\n",
    "\n",
    "#스크롤 내리기 이동 전 위치\n",
    "scroll_location = driver.execute_script(\"return document.body.scrollHeight\")\n",
    "\n",
    "while True:\n",
    "\t#현재 스크롤의 가장 아래로 내림\n",
    "    driver.execute_script(\"window.scrollTo(0,document.body.scrollHeight)\")\n",
    "       \n",
    "    #전체 스크롤이 늘어날 때까지 대기\n",
    "    time.sleep(2)\n",
    "    \n",
    "    #늘어난 스크롤 높이\n",
    "    scroll_height = driver.execute_script(\"return document.body.scrollHeight\")\n",
    "\n",
    "    #늘어난 스크롤 위치와 이동 전 위치 같으면(더 이상 스크롤이 늘어나지 않으면) 종료\n",
    "    if scroll_location == scroll_height:\n",
    "    \tbreak\n",
    "\t    \n",
    "    #같지 않으면 스크롤 위치 값을 수정하여 같아질 때까지 반복\n",
    "    else:\n",
    "    \t#스크롤 위치값을 수정\n",
    "    \tscroll_location = driver.execute_script(\"return document.body.scrollHeight\")\n"
   ]
  },
  {
   "cell_type": "code",
   "execution_count": null,
   "metadata": {},
   "outputs": [
    {
     "data": {
      "text/plain": [
       "['Tuxadracles', 'im really bad', 'SethVUK', 'Phil Mahooters', 'Cephus']"
      ]
     },
     "execution_count": 637,
     "metadata": {},
     "output_type": "execute_result"
    }
   ],
   "source": [
    "# 아이디, helpful, funny, recommended, 플레이타임, 날짜,리뷰내용\n",
    "\n",
    "user_id = driver.find_elements(By.XPATH,'//*[@class=\"apphub_CardContentAuthorName offline ellipsis\"]')\n",
    "ids = []\n",
    "for i in user_id:\n",
    "    ids.append(i.text)\n",
    "\n"
   ]
  },
  {
   "cell_type": "code",
   "execution_count": null,
   "metadata": {},
   "outputs": [],
   "source": [
    "# helpful & funny \n",
    "helpful = [] \n",
    "funny = []\n",
    "try:\n",
    "   help_funny = driver.find_elements(By.XPATH, '//*[@class=\"found_helpful\"]')\n",
    "   for h_f in help_funny:\n",
    "      h = int(h_f.text.split('\\n')[0].split(\" \")[-1])\n",
    "      if \"yet\" in h: \n",
    "         helpful.append(0)\n",
    "      else:\n",
    "         helpful.append(h)\n",
    "      \n",
    "      f =int(h_f.text.split('\\n')[-1].split(\" \")[0])\n",
    "      funny.append(f)\n",
    "\n",
    "except:\n",
    "   \n",
    "      helpful.append(0)\n",
    "      funny.append(0)\n",
    "\n",
    "\n",
    "    "
   ]
  },
  {
   "cell_type": "code",
   "execution_count": null,
   "metadata": {},
   "outputs": [
    {
     "name": "stdout",
     "output_type": "stream",
     "text": [
      "['Recommended', 'Recommended', 'Recommended', 'Recommended', 'Recommended', 'Recommended', 'Recommended', 'Recommended', 'Recommended', 'Recommended']\n"
     ]
    }
   ],
   "source": [
    "# recommmend\n",
    "recommend = driver.find_elements(By.CSS_SELECTOR, 'div.vote_header > div > div.title')\n",
    "recon = []\n",
    "\n",
    "for r in recommend:\n",
    "    recon.append(r.text)\n",
    "    \n",
    "print(recon)\n",
    "    \n",
    "    "
   ]
  },
  {
   "cell_type": "markdown",
   "metadata": {},
   "source": []
  },
  {
   "cell_type": "code",
   "execution_count": null,
   "metadata": {},
   "outputs": [
    {
     "data": {
      "text/plain": [
       "[54.7, 213.9, 40.3, 5.7, 234.8, 7.0, 7.4, 7.7, 7.1, 11.3]"
      ]
     },
     "execution_count": 553,
     "metadata": {},
     "output_type": "execute_result"
    }
   ],
   "source": [
    "# 플레이타임\n",
    "play_time = driver.find_elements(By.CSS_SELECTOR, 'div.vote_header > div > div.hours')\n",
    "p_time = []\n",
    "for pt in play_time:\n",
    "    p_t = float(pt.text.split(\" \")[0])\n",
    "    p_time.append(p_t)\n",
    "    "
   ]
  },
  {
   "cell_type": "code",
   "execution_count": null,
   "metadata": {},
   "outputs": [],
   "source": [
    "#리뷰내용\n",
    "review = driver.find_elements(By.XPATH, '//*[@id=\"page_1_row_5_template_mediumFallback\"]/div[2]/div[1]/div[1]/div[3]')\n",
    "reviews = []\n",
    "for r in review:\n",
    "     r = r.text.split('\\n')[-1]\n",
    "     reviews.append(r)"
   ]
  },
  {
   "cell_type": "code",
   "execution_count": null,
   "metadata": {},
   "outputs": [],
   "source": [
    "df = pd.DataFrame((zip(ids, helpful, funny, recon, p_time, review)), columns=['user_ids','helpful', 'funny',\"recommend\",\"playtime\",'review'])\n",
    "df.to_csv(f\"/Users/glebang/Downloads/스팀리뷰.csv\", encoding= \"utf-8\")\n",
    "\n",
    "        "
   ]
  },
  {
   "cell_type": "code",
   "execution_count": null,
   "metadata": {},
   "outputs": [],
   "source": []
  }
 ],
 "metadata": {
  "interpreter": {
   "hash": "a46c48c3082f1e74e07d54a86199f46f9bc8914c3804cc0f315a25f3f62b1fe2"
  },
  "kernelspec": {
   "display_name": "Python 3.9.12 ('base')",
   "language": "python",
   "name": "python3"
  },
  "language_info": {
   "codemirror_mode": {
    "name": "ipython",
    "version": 3
   },
   "file_extension": ".py",
   "mimetype": "text/x-python",
   "name": "python",
   "nbconvert_exporter": "python",
   "pygments_lexer": "ipython3",
   "version": "3.9.12"
  },
  "orig_nbformat": 4
 },
 "nbformat": 4,
 "nbformat_minor": 2
}
